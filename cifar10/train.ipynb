{
 "cells": [
  {
   "cell_type": "code",
   "execution_count": 1,
   "metadata": {},
   "outputs": [
    {
     "name": "stderr",
     "output_type": "stream",
     "text": [
      "2022-02-10 20:41:28.762941: W tensorflow/stream_executor/platform/default/dso_loader.cc:64] Could not load dynamic library 'libcudart.so.11.0'; dlerror: libcudart.so.11.0: cannot open shared object file: No such file or directory; LD_LIBRARY_PATH: /usr/lib/x86_64-linux-gnu/gazebo-11/plugins:/opt/ros/foxy/opt/yaml_cpp_vendor/lib:/opt/ros/foxy/opt/rviz_ogre_vendor/lib:/opt/ros/foxy/lib/x86_64-linux-gnu:/opt/ros/foxy/lib\n",
      "2022-02-10 20:41:28.762978: I tensorflow/stream_executor/cuda/cudart_stub.cc:29] Ignore above cudart dlerror if you do not have a GPU set up on your machine.\n"
     ]
    }
   ],
   "source": [
    "import pickle\n",
    "import numpy as np\n",
    "import tensorflow as tf\n",
    "from tensorflow.keras import datasets, layers, models, regularizers, optimizers, initializers\n",
    "from tensorflow.keras.utils import to_categorical"
   ]
  },
  {
   "cell_type": "code",
   "execution_count": 2,
   "metadata": {},
   "outputs": [],
   "source": [
    "def unpickle(file):\n",
    "    with open(file, 'rb') as fo:\n",
    "        dict = pickle.load(fo, encoding='bytes')\n",
    "    return dict"
   ]
  },
  {
   "cell_type": "code",
   "execution_count": 3,
   "metadata": {},
   "outputs": [],
   "source": [
    "train_batches = [\n",
    "    \"./cifar-10-batches-py/data_batch_1\",\n",
    "    \"./cifar-10-batches-py/data_batch_2\",\n",
    "    \"./cifar-10-batches-py/data_batch_3\",\n",
    "    \"./cifar-10-batches-py/data_batch_4\",\n",
    "    \"./cifar-10-batches-py/data_batch_5\"\n",
    "]\n",
    "test_batch = \"./cifar-10-batches-py/test_batch\""
   ]
  },
  {
   "cell_type": "code",
   "execution_count": 6,
   "metadata": {},
   "outputs": [
    {
     "name": "stdout",
     "output_type": "stream",
     "text": [
      "Train dataset shape:  (50000, 32, 32, 3)\n",
      "Train labels shape:  (50000, 10)\n",
      "Test dataset shape:  (10000, 32, 32, 3)\n",
      "Test labels shape:  (10000, 10)\n"
     ]
    }
   ],
   "source": [
    "for index, batch_file in enumerate(train_batches):\n",
    "    batch_data = unpickle(batch_file)\n",
    "    if index == 0:\n",
    "        train_x = batch_data[b\"data\"]\n",
    "        train_y = batch_data[b\"labels\"]\n",
    "    else:\n",
    "        train_x = np.concatenate((train_x, batch_data[b\"data\"]))\n",
    "        train_y = np.concatenate((train_y, np.array(batch_data[b\"labels\"])))\n",
    "test_data = unpickle(test_batch)\n",
    "test_x, test_y = test_data[b\"data\"], np.array(test_data[b\"labels\"])\n",
    "\n",
    "train_x = train_x.reshape((train_x.shape[0], 32, 32, 3))\n",
    "test_x = test_x.reshape((test_x.shape[0], 32, 32, 3))\n",
    "train_x, test_x = train_x.astype(\"float32\"), test_x.astype(\"float32\")\n",
    "train_x, test_x = train_x / 255., test_x / 255.\n",
    "\n",
    "train_y = to_categorical(train_y)\n",
    "test_y = to_categorical(test_y)\n",
    "\n",
    "print(\"Train dataset shape: \", train_x.shape)\n",
    "print(\"Train labels shape: \", train_y.shape)\n",
    "print(\"Test dataset shape: \", test_x.shape)\n",
    "print(\"Test labels shape: \", test_y.shape)"
   ]
  },
  {
   "cell_type": "code",
   "execution_count": 7,
   "metadata": {},
   "outputs": [
    {
     "name": "stdout",
     "output_type": "stream",
     "text": [
      "Model: \"sequential\"\n",
      "____________________________________________________________________________________________________\n",
      "Layer (type)                                 Output Shape                            Param #        \n",
      "====================================================================================================\n",
      "conv2d (Conv2D)                              (None, 30, 30, 64)                      1792           \n",
      "____________________________________________________________________________________________________\n",
      "max_pooling2d (MaxPooling2D)                 (None, 10, 10, 64)                      0              \n",
      "____________________________________________________________________________________________________\n",
      "conv2d_1 (Conv2D)                            (None, 8, 8, 128)                       73856          \n",
      "____________________________________________________________________________________________________\n",
      "max_pooling2d_1 (MaxPooling2D)               (None, 2, 2, 128)                       0              \n",
      "____________________________________________________________________________________________________\n",
      "dense (Dense)                                (None, 2, 2, 120)                       15480          \n",
      "____________________________________________________________________________________________________\n",
      "dense_1 (Dense)                              (None, 2, 2, 60)                        7260           \n",
      "____________________________________________________________________________________________________\n",
      "dense_2 (Dense)                              (None, 2, 2, 10)                        610            \n",
      "====================================================================================================\n",
      "Total params: 98,998\n",
      "Trainable params: 98,998\n",
      "Non-trainable params: 0\n",
      "____________________________________________________________________________________________________\n"
     ]
    },
    {
     "name": "stderr",
     "output_type": "stream",
     "text": [
      "2022-02-10 20:43:14.051211: W tensorflow/stream_executor/platform/default/dso_loader.cc:64] Could not load dynamic library 'libcuda.so.1'; dlerror: libcuda.so.1: cannot open shared object file: No such file or directory; LD_LIBRARY_PATH: /usr/lib/x86_64-linux-gnu/gazebo-11/plugins:/opt/ros/foxy/opt/yaml_cpp_vendor/lib:/opt/ros/foxy/opt/rviz_ogre_vendor/lib:/opt/ros/foxy/lib/x86_64-linux-gnu:/opt/ros/foxy/lib\n",
      "2022-02-10 20:43:14.051261: W tensorflow/stream_executor/cuda/cuda_driver.cc:269] failed call to cuInit: UNKNOWN ERROR (303)\n",
      "2022-02-10 20:43:14.051298: I tensorflow/stream_executor/cuda/cuda_diagnostics.cc:156] kernel driver does not appear to be running on this host (abel-Vostro-3405): /proc/driver/nvidia/version does not exist\n",
      "2022-02-10 20:43:14.051807: I tensorflow/core/platform/cpu_feature_guard.cc:142] This TensorFlow binary is optimized with oneAPI Deep Neural Network Library (oneDNN) to use the following CPU instructions in performance-critical operations:  AVX2 FMA\n",
      "To enable them in other operations, rebuild TensorFlow with the appropriate compiler flags.\n"
     ]
    }
   ],
   "source": [
    "model = models.Sequential()\n",
    "model.add(layers.Conv2D(64, (3, 3), activation='linear', input_shape=(32, 32, 3)))\n",
    "model.add(layers.MaxPooling2D((3, 3)))\n",
    "model.add(layers.Conv2D(128, (3, 3), activation='relu'))\n",
    "model.add(layers.MaxPooling2D((3, 3)))\n",
    "model.add(layers.Dense(120, activation='linear'))\n",
    "model.add(layers.Dense(60, activation='relu'))\n",
    "model.add(layers.Dense(10))\n",
    "model.summary(line_length = 100)"
   ]
  },
  {
   "cell_type": "code",
   "execution_count": null,
   "metadata": {},
   "outputs": [],
   "source": [
    "model.compile(\n",
    "    optimizer=optimizers.Adagrad(learning_rate=0.05),\n",
    "    loss=tf.keras.losses.CategoricalCrossentropy(from_logits=True),\n",
    "    metrics=['accuracy'])\n",
    "model.fit(train_x, train_y, epochs=1, validation_data=(test_x, test_y), batch_size=15)\n",
    "_, test_acc = model.evaluate(test_x, test_y, verbose = 2)\n",
    "print(\"Result:\", test_acc)"
   ]
  }
 ],
 "metadata": {
  "interpreter": {
   "hash": "31f2aee4e71d21fbe5cf8b01ff0e069b9275f58929596ceb00d14d90e3e16cd6"
  },
  "kernelspec": {
   "display_name": "Python 3.8.10 64-bit",
   "language": "python",
   "name": "python3"
  },
  "language_info": {
   "codemirror_mode": {
    "name": "ipython",
    "version": 3
   },
   "file_extension": ".py",
   "mimetype": "text/x-python",
   "name": "python",
   "nbconvert_exporter": "python",
   "pygments_lexer": "ipython3",
   "version": "3.8.10"
  },
  "orig_nbformat": 4
 },
 "nbformat": 4,
 "nbformat_minor": 2
}
